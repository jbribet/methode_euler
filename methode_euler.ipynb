{
 "cells": [
  {
   "cell_type": "markdown",
   "metadata": {},
   "source": [
    "## Méthode d'Euler"
   ]
  },
  {
   "cell_type": "markdown",
   "metadata": {},
   "source": [
    "L'objectif de cette méthode est de construire une courbe approchée de la courbe représentative d'une fonction dérivable $f$ dont on connait la dérivée en fonction de $f$.\n",
    "\n",
    "On va appliquer cette méthode à la fonction exponentielle. On sait qu'elle est par définition solution du problème suivant, pour tout $x\\in\\mathbb{R}$ :\n",
    "\\begin{array}{rcl}\n",
    "f(0)&=&1\\\\\n",
    "f'(x)&=&f(x)\\\\\n",
    "\\end{array}"
   ]
  },
  {
   "cell_type": "markdown",
   "metadata": {},
   "source": [
    "Soit $h$ un nombre réel, on définit la suite $(x_n)$ par $x_n=nh$.\n",
    "\n",
    "1. Détermine l'équation de la tangente à $\\mathcal{C}_f$ en $x_0$.\n",
    "2. Détermine l'ordonnée du point de cette tangente d'abscisse $x_1$.\n",
    "\n",
    "\n",
    " On note $y_1$ cette ordonnée. Si $h$ est petit, la tangente étant \"proche\" de $\\mathcal{C}_f$, on a $y_1\\approx f(x_1)$. Le principe de la méthode est de faire comme si $y_1=f(x_1)$ et ainsi de déterminer une suite $(y_n)$ dont les termes seront proches de ceux de la suite $\\left(f(x_n)\\right)$.\n",
    "Soit $n\\in\\mathbb{N}$, on note $M_n(x_n~;~y_n)$.\n",
    "\n",
    "\n",
    "3. Détermine l'équation de la droite passant par $M_n$ parallèle à la tangente à $\\mathcal{C}_f$ en $x_n$.\n",
    "4. On note $y_{n+1}$ l'ordonnée du point de cette droite d'abscisse $x_{n+1}$. Détermine $y_{n+1}$ en fonction de $y_n$ et $h$.\n",
    "4. Quelle est la nature de la suite $(y_n)$ ?\n"
   ]
  },
  {
   "cell_type": "markdown",
   "metadata": {},
   "source": [
    "Écris un algorithme traçant une courbe approchée de la fonction exponentielle sur $[0~;~3]$ avec $h=0,01$."
   ]
  },
  {
   "cell_type": "markdown",
   "metadata": {},
   "source": [
    "On va d'abord déterminer la _liste_ des coordonnées  $y_n$ des points de la courbe approchée par la méthode d'Euler."
   ]
  },
  {
   "cell_type": "code",
   "execution_count": null,
   "metadata": {},
   "outputs": [],
   "source": []
  },
  {
   "cell_type": "markdown",
   "metadata": {},
   "source": [
    "On va tracer la courbe correspondant aux points calculés :"
   ]
  },
  {
   "cell_type": "code",
   "execution_count": null,
   "metadata": {},
   "outputs": [],
   "source": [
    "import matplotlib.pyplot as plt\n",
    "a=\n",
    "b=\n",
    "points = 200\n",
    "X=[a+k*(b-a)/points for k in range(points)]\n",
    "plt.xlim(a,b)\n",
    "plt.ylim(-10,10)\n",
    "plt.title(\"Courbe représentative de la fonction f\")\n",
    "plt.plot(X,Y)"
   ]
  },
  {
   "cell_type": "code",
   "execution_count": null,
   "metadata": {},
   "outputs": [],
   "source": []
  }
 ],
 "metadata": {
  "kernelspec": {
   "display_name": "Python 3",
   "language": "python",
   "name": "python3"
  },
  "language_info": {
   "codemirror_mode": {
    "name": "ipython",
    "version": 3
   },
   "file_extension": ".py",
   "mimetype": "text/x-python",
   "name": "python",
   "nbconvert_exporter": "python",
   "pygments_lexer": "ipython3",
   "version": "3.6.5"
  }
 },
 "nbformat": 4,
 "nbformat_minor": 2
}
